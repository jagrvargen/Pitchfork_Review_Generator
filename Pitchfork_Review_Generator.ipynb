{
 "cells": [
  {
   "cell_type": "code",
   "execution_count": 1,
   "metadata": {
    "collapsed": false,
    "deletable": true,
    "editable": true
   },
   "outputs": [
    {
     "name": "stderr",
     "output_type": "stream",
     "text": [
      "Using TensorFlow backend.\n"
     ]
    }
   ],
   "source": [
    "from utils import *\n",
    "\n",
    "import numpy as np\n",
    "import pickle\n",
    "import sys\n",
    "\n",
    "from keras.initializers import glorot_uniform\n",
    "from keras.layers import Dense, Activation, Dropout, Input, LSTM, Reshape, Lambda, RepeatVector\n",
    "from keras.models import load_model, Model\n",
    "from keras.optimizers import Adam\n",
    "from keras import backend as K"
   ]
  },
  {
   "cell_type": "code",
   "execution_count": 2,
   "metadata": {
    "collapsed": false,
    "deletable": true,
    "editable": true
   },
   "outputs": [
    {
     "name": "stdout",
     "output_type": "stream",
     "text": [
      "Trip hop  eventually became a  90s punchline  a music press shorthand for  overhyped hotel lounge music.  But today  the much maligned subgenre almost feels like a secret precedent. Listen to any of the canonical Bristol scene albums of the mid late  90s  when the genre was starting to chafe against its boundaries  and you d think the claustrophobic  anxious 21st century started a few years ahead of schedule. Looked at from the right angle  trip hop is part of an unbroken chain that runs from th\n"
     ]
    }
   ],
   "source": [
    "data_path = \"data/parsed_text.txt\"\n",
    "\n",
    "try:\n",
    "    with open(data_path, 'r', encoding='utf-8') as f:\n",
    "        text = f.read()\n",
    "except:\n",
    "    text = get_raw_text()\n",
    "print(text[:500])"
   ]
  },
  {
   "cell_type": "code",
   "execution_count": 7,
   "metadata": {
    "collapsed": false,
    "deletable": true,
    "editable": true
   },
   "outputs": [
    {
     "name": "stdout",
     "output_type": "stream",
     "text": [
      "['trip', 'hop', 'eventually', 'became', 'a', '90s', 'punchline', 'a', 'music', 'press', 'shorthand', 'for', 'overhyped', 'hotel', 'lounge', 'music', '.', 'but', 'today', 'the', 'much', 'maligned', 'subgenre', 'almost', 'feels', 'like', 'a', 'secret', 'precedent', '.', 'listen', 'to', 'any', 'of', 'the', 'canonical', 'bristol', 'scene', 'albums', 'of', 'the', 'mid', 'late', '90s', 'when', 'the', 'genre', 'was', 'starting', 'to', 'chafe', 'against', 'its', 'boundaries', 'and', 'you', 'd', 'think', 'the', 'claustrophobic', 'anxious', '21st', 'century', 'started', 'a', 'few', 'years', 'ahead', 'of', 'schedule', '.', 'looked', 'at', 'from', 'the', 'right', 'angle', 'trip', 'hop', 'is', 'part', 'of', 'an', 'unbroken', 'chain', 'that', 'runs', 'from', 'the', 'abrasion', 'of', '80s', 'post', 'punk', 'to', 'the', 'ruminative', 'pop', 'r', 'b'] \n",
      "\n",
      "There are 13475146 words total in the data including periods.\n",
      "There are 162363 unique words in the data.\n"
     ]
    }
   ],
   "source": [
    "cleaned_data_path = \"data/cleaned_text.pickle\"\n",
    "\n",
    "try:\n",
    "    with open(cleaned_data_path, 'rb') as p:\n",
    "        cleaned_text = pickle.load(p)\n",
    "except:\n",
    "    cleaned_text = clean_and_tokenize_text(text)\n",
    "    with open(cleaned_data_path, 'wb') as p:\n",
    "        pickle.dump(cleaned_text, p)\n",
    "\n",
    "print(cleaned_text[:100], '\\n')\n",
    "print(\"There are {} words total in the data including periods.\".format(len(cleaned_text)))\n",
    "print(\"There are {} unique words in the data.\".format(len(set(cleaned_text))))"
   ]
  },
  {
   "cell_type": "code",
   "execution_count": 4,
   "metadata": {
    "collapsed": true,
    "deletable": true,
    "editable": true
   },
   "outputs": [],
   "source": [
    "word_to_index, index_to_word = create_dictionaries(cleaned_text)\n"
   ]
  },
  {
   "cell_type": "code",
   "execution_count": null,
   "metadata": {
    "collapsed": true,
    "deletable": true,
    "editable": true
   },
   "outputs": [],
   "source": [
    "def create_dataset(cleaned_text):\n",
    "    \"\"\"\n",
    "       \n",
    "    \"\"\""
   ]
  }
 ],
 "metadata": {
  "kernelspec": {
   "display_name": "Python 3",
   "language": "python",
   "name": "python3"
  },
  "language_info": {
   "codemirror_mode": {
    "name": "ipython",
    "version": 3
   },
   "file_extension": ".py",
   "mimetype": "text/x-python",
   "name": "python",
   "nbconvert_exporter": "python",
   "pygments_lexer": "ipython3",
   "version": "3.6.5"
  }
 },
 "nbformat": 4,
 "nbformat_minor": 2
}
