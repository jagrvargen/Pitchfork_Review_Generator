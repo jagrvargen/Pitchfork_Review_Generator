{
 "cells": [
  {
   "cell_type": "code",
   "execution_count": 1,
   "metadata": {
    "collapsed": false,
    "deletable": true,
    "editable": true
   },
   "outputs": [
    {
     "name": "stderr",
     "output_type": "stream",
     "text": [
      "Using TensorFlow backend.\n"
     ]
    }
   ],
   "source": [
    "from utils import *\n",
    "\n",
    "import numpy as np\n",
    "import pickle\n",
    "import sys\n",
    "\n",
    "from keras.initializers import glorot_uniform\n",
    "from keras.layers import Dense, Activation, Dropout, Input, LSTM, Reshape, Lambda, RepeatVector\n",
    "from keras.models import load_model, Model\n",
    "from keras.optimizers import Adam\n",
    "from keras.utils import to_categorical\n",
    "from keras import backend as K"
   ]
  },
  {
   "cell_type": "code",
   "execution_count": 2,
   "metadata": {
    "collapsed": false,
    "deletable": true,
    "editable": true
   },
   "outputs": [
    {
     "name": "stdout",
     "output_type": "stream",
     "text": [
      "Trip hop  eventually became a  90s punchline  a music press shorthand for  overhyped hotel lounge music.  But today  the much maligned subgenre almost feels like a secret precedent. Listen to any of the canonical Bristol scene albums of the mid late  90s  when the genre was starting to chafe against its boundaries  and you d think the claustrophobic  anxious 21st century started a few years ahead of schedule. Looked at from the right angle  trip hop is part of an unbroken chain that runs from th\n"
     ]
    }
   ],
   "source": [
    "data_path = \"data/parsed_text.txt\"\n",
    "\n",
    "try:\n",
    "    with open(data_path, 'r', encoding='utf-8') as f:\n",
    "        text = f.read()\n",
    "except:\n",
    "    text = get_raw_text()\n",
    "print(text[:500])"
   ]
  },
  {
   "cell_type": "code",
   "execution_count": 3,
   "metadata": {
    "collapsed": false,
    "deletable": true,
    "editable": true
   },
   "outputs": [
    {
     "name": "stdout",
     "output_type": "stream",
     "text": [
      "['trip', 'hop', 'eventually', 'became', 'a', '90s', 'punchline', 'a', 'music', 'press', 'shorthand', 'for', 'overhyped', 'hotel', 'lounge', 'music', '.', 'but', 'today', 'the', 'much', 'maligned', 'subgenre', 'almost', 'feels', 'like', 'a', 'secret', 'precedent', '.', 'listen', 'to', 'any', 'of', 'the', 'canonical', 'bristol', 'scene', 'albums', 'of', 'the', 'mid', 'late', '90s', 'when', 'the', 'genre', 'was', 'starting', 'to', 'chafe', 'against', 'its', 'boundaries', 'and', 'you', 'd', 'think', 'the', 'claustrophobic', 'anxious', '21st', 'century', 'started', 'a', 'few', 'years', 'ahead', 'of', 'schedule', '.', 'looked', 'at', 'from', 'the', 'right', 'angle', 'trip', 'hop', 'is', 'part', 'of', 'an', 'unbroken', 'chain', 'that', 'runs', 'from', 'the', 'abrasion', 'of', '80s', 'post', 'punk', 'to', 'the', 'ruminative', 'pop', 'r', 'b'] \n",
      "\n",
      "There are 13475146 words total in the data including periods.\n",
      "There are 162363 unique words in the data.\n"
     ]
    }
   ],
   "source": [
    "cleaned_data_path = \"data/cleaned_text.pickle\"\n",
    "\n",
    "try:\n",
    "    with open(cleaned_data_path, 'rb') as p:\n",
    "        cleaned_text = pickle.load(p)\n",
    "except:\n",
    "    cleaned_text = clean_and_tokenize_text(text)\n",
    "    with open(cleaned_data_path, 'wb') as p:\n",
    "        pickle.dump(cleaned_text, p)\n",
    "\n",
    "tokens = set(cleaned_text)\n",
    "vocab_size = len(tokens)\n",
    "        \n",
    "print(cleaned_text[:100], '\\n')\n",
    "print(\"There are {} words total in the data including periods.\".format(len(cleaned_text)))\n",
    "print(\"There are {} unique words in the data.\".format(vocab_size))"
   ]
  },
  {
   "cell_type": "code",
   "execution_count": 4,
   "metadata": {
    "collapsed": false,
    "deletable": true,
    "editable": true
   },
   "outputs": [
    {
     "name": "stdout",
     "output_type": "stream",
     "text": [
      "[115450, 54908, 488, 104690, 158774, 100126, 109416, 158774, 141919, 30589, 46932, 24298, 55461, 10203, 65255, 141919, 42527, 123027, 154888, 30879]\n"
     ]
    }
   ],
   "source": [
    "word_to_index, index_to_word = create_dictionaries(cleaned_text)\n",
    "numerical_text = convert_text_to_indices(cleaned_text, word_to_index)\n",
    "\n",
    "print(numerical_text[:20])"
   ]
  },
  {
   "cell_type": "code",
   "execution_count": 11,
   "metadata": {
    "collapsed": true,
    "deletable": true,
    "editable": true
   },
   "outputs": [],
   "source": [
    "def create_dataset(numerical_text, vocab_size, word_to_index, m=500000, sample_length=32):\n",
    "    \"\"\"\n",
    "       Format data for training\n",
    "    \"\"\"\n",
    "    \n",
    "    X = np.zeros((m, sample_length, vocab_size), dtype=np.bool)\n",
    "    y = np.zeros((m, sample_length, vocab_size), dtype=np.bool)\n",
    "    \n",
    "    for i in range(m):\n",
    "        random_index = np.random.choice(len(numerical_text) - sample_length - 1)\n",
    "        random_sample = numerical_text[random_index:(random_index + sample_length)]\n",
    "    \n",
    "        for j in range(sample_length):\n",
    "            index = numerical_text[random_sample[j]]\n",
    "            if j != 0:\n",
    "                X[i,j,index] = 1\n",
    "                y[i,j-1,index] = 1\n",
    "            \n",
    "    y = np.swapaxes(y, 0, 1)\n",
    "            \n",
    "    return X, y"
   ]
  },
  {
   "cell_type": "code",
   "execution_count": null,
   "metadata": {
    "collapsed": false
   },
   "outputs": [],
   "source": [
    "X, y = create_dataset(numerical_text, vocab_size, word_to_index)\n",
    "n_activations = 128"
   ]
  },
  {
   "cell_type": "code",
   "execution_count": null,
   "metadata": {
    "collapsed": false
   },
   "outputs": [],
   "source": [
    "\"\"\" Create global layers in order to share them between the training and generator models. \"\"\"\n",
    "\n",
    "reshape = Reshape((1, vocab_size))\n",
    "lstm = LSTM(n_activations, return_state=True)\n",
    "dense = Dense(vocab_size, activation='softmax')"
   ]
  },
  {
   "cell_type": "code",
   "execution_count": null,
   "metadata": {
    "collapsed": false
   },
   "outputs": [],
   "source": [
    "def training_model(X, lstm, dense, reshape, vocab_size, sample_length=32):\n",
    "    \"\"\"\n",
    "       This model will train the weights of the LSTM RNN in order to later generate output.\n",
    "    \"\"\"\n",
    "    X = Input(shape=(sample_length, vocab_size))\n",
    "    a_0 = Input(shape=(1, vocab_size))\n",
    "    c_0 = Input(shape=(1, vocab_size))\n",
    "    \n",
    "    a = a_0\n",
    "    c = c_0\n",
    "    outputs = []\n",
    "    \n",
    "    for t in range(sample_length):\n",
    "        X = Lambda(lambda X: X[:,t,:])(X)\n",
    "        X = reshape(X)\n",
    "        a, _, c = lstm(X, initial_state=[a, c])\n",
    "        output = dense(a)\n",
    "        outputs.append(output)\n",
    "        \n",
    "    model = Model(inputs=[X, a_0, c_0], outputs=outputs)\n",
    "        \n",
    "    return model"
   ]
  },
  {
   "cell_type": "code",
   "execution_count": null,
   "metadata": {
    "collapsed": false
   },
   "outputs": [],
   "source": [
    "model = training_model(X, lstm, dense, reshape, vocab_size)\n",
    "optimizer = Adam(lr=0.01)\n",
    "model.compile(optimizer, loss='categorical_crossentropy', metric=['accuracy'])"
   ]
  },
  {
   "cell_type": "code",
   "execution_count": null,
   "metadata": {
    "collapsed": true
   },
   "outputs": [],
   "source": []
  }
 ],
 "metadata": {
  "kernelspec": {
   "display_name": "Python 3",
   "language": "python",
   "name": "python3"
  },
  "language_info": {
   "codemirror_mode": {
    "name": "ipython",
    "version": 3
   },
   "file_extension": ".py",
   "mimetype": "text/x-python",
   "name": "python",
   "nbconvert_exporter": "python",
   "pygments_lexer": "ipython3",
   "version": "3.6.5"
  }
 },
 "nbformat": 4,
 "nbformat_minor": 2
}
